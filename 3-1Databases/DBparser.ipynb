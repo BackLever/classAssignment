{
 "cells": [
  {
   "cell_type": "markdown",
   "metadata": {},
   "source": [
    "## PunMed Data Parsing"
   ]
  },
  {
   "cell_type": "code",
   "execution_count": 1,
   "metadata": {},
   "outputs": [],
   "source": [
    "import csv\n",
    "import numpy as np\n",
    "from xml.etree.ElementTree import parse"
   ]
  },
  {
   "cell_type": "code",
   "execution_count": 2,
   "metadata": {},
   "outputs": [],
   "source": [
    "tree = parse('pubmed21n0909.xml')\n",
    "root = tree.getroot()\n",
    "\n",
    "DateClass = ['Year', 'Month', 'Day']\n",
    "NameClass = ['LastName', 'ForeName', 'Initials']"
   ]
  },
  {
   "cell_type": "code",
   "execution_count": 3,
   "metadata": {},
   "outputs": [],
   "source": [
    "PubmedArticle = root.findall(\"PubmedArticle\")\n",
    "\n",
    "MedlineCitation = sum([x.findall(\"MedlineCitation\") for x in PubmedArticle], [])"
   ]
  },
  {
   "cell_type": "markdown",
   "metadata": {},
   "source": [
    "### Article"
   ]
  },
  {
   "cell_type": "code",
   "execution_count": 4,
   "metadata": {},
   "outputs": [],
   "source": [
    "Article = sum([x.findall(\"Article\") for x in MedlineCitation], [])\n",
    "\n",
    "TempDate = []\n",
    "PubMedPubDate = []\n",
    "ArticleTitle = []\n",
    "AbstractText = []\n",
    "TempText = \"\"\n",
    "\n",
    "# PMID (PK)\n",
    "PMID = [x.findtext(\"PMID\") for x in MedlineCitation]\n",
    "\n",
    "# PubMedPubDate\n",
    "PubMedPubDateTag = sum([x.findall(\"./PubmedData/History/PubMedPubDate[@PubStatus='pubmed']\") for x in PubmedArticle], [])\n",
    "for x in DateClass:\n",
    "    TempDate.append([y.findtext(x) for y in PubMedPubDateTag])\n",
    "for x in zip(*TempDate):\n",
    "    PubMedPubDate.append(x[0]+'-'+x[1]+'-'+x[2])\n",
    "\n",
    "# ArticleTitle\n",
    "ArticleTitleTag = sum([x.findall(\"ArticleTitle\") for x in Article], [])\n",
    "for tag in ArticleTitleTag:\n",
    "    for t in tag.itertext():\n",
    "        TempText += t\n",
    "    ArticleTitle.append(TempText)\n",
    "    TempText = \"\"\n",
    "    \n",
    "# AbstractText\n",
    "AbstractTextTag = [x.findall(\"./Abstract/AbstractText\") for x in Article]\n",
    "for i in range(len(AbstractTextTag)):\n",
    "    for tag in AbstractTextTag[i]:\n",
    "        for t in tag.itertext():\n",
    "            TempText += t\n",
    "    AbstractText.append(TempText)\n",
    "    TempText = \"\""
   ]
  },
  {
   "cell_type": "markdown",
   "metadata": {},
   "source": [
    "### Journal"
   ]
  },
  {
   "cell_type": "code",
   "execution_count": 5,
   "metadata": {},
   "outputs": [],
   "source": [
    "Journal = sum([x.findall(\"Journal\") for x in Article], [])\n",
    "JournalIssue = sum([x.findall(\"JournalIssue\") for x in Journal], [])\n",
    "\n",
    "# ISSN (PK)\n",
    "ISSN = [x.findtext(\"ISSN\") for x in Journal]\n",
    "ISSN = sum([[\"\\\\n\" if issn is None else issn] for issn in ISSN], [])\n",
    "\n",
    "# # Volume\n",
    "# Volume = [x.findtext(\"Volume\") for x in JournalIssue]\n",
    "\n",
    "# # PubDate\n",
    "# PubDateTag = sum([x.findall(\"PubDate\") for x in JournalIssue], [])\n",
    "# PubDate = [x.findtext(\"Year\") for x in PubDateTag]\n",
    "\n",
    "# Title\n",
    "Title = [x.findtext(\"Title\") for x in Journal]\n",
    "\n",
    "# # ISOAbbreviation\n",
    "# ISOAbbreviation = [x.findtext(\"ISOAbbreviation\") for x in Journal]\n",
    "\n",
    "# Country\n",
    "MedlineJournalInfo = sum([x.findall(\"MedlineJournalInfo\") for x in MedlineCitation], [])\n",
    "Country = [x.findtext(\"Country\") for x in MedlineJournalInfo]"
   ]
  },
  {
   "cell_type": "markdown",
   "metadata": {},
   "source": [
    "### Author"
   ]
  },
  {
   "cell_type": "code",
   "execution_count": 31,
   "metadata": {},
   "outputs": [],
   "source": [
    "Author = [x.findall(\"./AuthorList/Author\") for x in Article]\n",
    "\n",
    "TempName = []\n",
    "TempNameList = [] # 논문별 구분을 위함\n",
    "AuthorName = []\n",
    "\n",
    "# AuthorName (PK)\n",
    "for i in range(len(Author)):\n",
    "    for x in NameClass:\n",
    "        TempName.append([y.findtext(x) for y in Author[i]])\n",
    "    for x in zip(*TempName):\n",
    "        varName = \"\"\n",
    "        for j in range(len(NameClass)):\n",
    "            if x[j] is None:\n",
    "                continue\n",
    "            else:\n",
    "                varName += x[j]\n",
    "                if j != 2:\n",
    "                    varName += \" \"\n",
    "        if varName == \"\":\n",
    "            varName = \"\\\\n\"\n",
    "        TempNameList.append(varName)\n",
    "    AuthorName.append(TempNameList)\n",
    "    TempName = []\n",
    "    TempNameList = []\n",
    "# AuthorName = sum(AuthorName, []) # 논문별로 구분하려면 이 줄 주석처리"
   ]
  },
  {
   "cell_type": "code",
   "execution_count": 32,
   "metadata": {},
   "outputs": [],
   "source": [
    "# Affiliation\n",
    "# 대표 1개 Affiliation만 추출\n",
    "TempAffiList = [] # 논문별 구분을 위함\n",
    "Affiliation = []\n",
    "for i in range(len(Author)):\n",
    "#     AffiliationInfo = [x.findall(\"AffiliationInfo\") for x in Author[i]]\n",
    "    for j in range(len(Author[i])):\n",
    "        AffiliationInfo = Author[i][j].find('AffiliationInfo')\n",
    "        if AffiliationInfo is None:\n",
    "            TempAffiList.append('\\\\n')\n",
    "        else:\n",
    "            TempAffiList.append(AffiliationInfo.findtext(\"Affiliation\"))\n",
    "    Affiliation.append(TempAffiList)\n",
    "    TempAffiList = []\n",
    "# Affiliation = sum(Affiliation, []) # 논문별로 구분하려면 이 줄 주석처리\n",
    "\n",
    "### 모든 Affiliation 추출\n",
    "# TempAffiList = []\n",
    "# Temp = [] # 저자별 구분을 위함\n",
    "# Affiliation = []\n",
    "# for i in range(len(Author)):\n",
    "#     AffiliationInfo = [x.findall(\"AffiliationInfo\") for x in Author[i]]\n",
    "#     for j in range(len(Author[i])):\n",
    "#         for k in range(len(AffiliationInfo[j])):\n",
    "#             Temp.append(AffiliationInfo[j][k].findtext(\"Affiliation\"))\n",
    "#         TempAffiList.append(Temp)\n",
    "#         Temp = []\n",
    "#     Affiliation.append(TempAffiList)\n",
    "#     TempAffiList = []"
   ]
  },
  {
   "cell_type": "markdown",
   "metadata": {},
   "source": [
    "### Test"
   ]
  },
  {
   "cell_type": "code",
   "execution_count": 8,
   "metadata": {},
   "outputs": [
    {
     "name": "stdout",
     "output_type": "stream",
     "text": [
      "------Article Test------\n",
      "* PMID(PK)      :  ['28588640', '28588641', '28588642']\n",
      "* PubMedPubDate :  ['2017-6-8', '2017-6-8', '2017-6-8']\n",
      "* ArticleTitle  :  ['Compounds from Cynomorium songaricum with Estrogenic and Androgenic Activities Suppress the Oestrogen/Androgen-Induced BPH Process.', 'The Significant Pathways and Genes Underlying the Colon Cancer Treatment by the Traditional Chinese Medicine PHY906.', 'The Preventive Control of Zoonotic Visceral Leishmaniasis: Efficacy and Economic Evaluation.']\n",
      "* AbstractText  :  To investigate the phytoestrogenic and phytoandrogenic activities of compounds isolated from CS and uncover the role of CS in prevention of oestrogen/androgen-induced BPH.Cells were treated with CS compounds, and immunofluorescence assay was performed to detect the nuclear translocation of ERα or AR in MCF-7 or LNCaP cells; luciferase reporter assay was performed to detect ERs or AR transcriptional activity in HeLa or AD293 cells; MTT assay was performed to detect the cell proliferation of MCF-7 or LNCaP cells. Oestrogen/androgen-induced BPH model was established in rat and the anti-BPH, anti-estrogenic, and anti-androgenic activities of CS in vivo were further investigated.The nuclear translocation of ERα was stimulated by nine CS compounds, three of which also stimulated AR translocation. The transcriptional activities of ERα and ERβ were induced by five compounds, within which only ECG induced AR transcriptional activity as well. Besides, ECG stimulated the proliferation of both MCF-7 cells and LNCaP cells. CS extract suppressed oestrogen/androgen-induced BPH progress in vivo by downregulation of E2 and T level in serum and alteration of the expressions of ERα, ERβ, and AR in the prostate.Our data demonstrates that compounds from CS exhibit phytoestrogenic and phytoandrogenic activities, which may contribute to inhibiting the oestrogen/androgen-induced BPH development.\n",
      "\n",
      "-----Journal Test------\n",
      "* ISSN(PK)      :  ['1741-427X', '1741-427X', '1748-6718']\n",
      "* Title         :  ['Evidence-based complementary and alternative medicine : eCAM', 'Evidence-based complementary and alternative medicine : eCAM', 'Computational and mathematical methods in medicine']\n",
      "* Country       :  ['United States', 'United States', 'United States']\n",
      "\n",
      "------Author Test------\n",
      "* AuthorName(PK):  [['Wang Xueni X', 'Tao Rui R', 'Yang Jing J', 'Miao Lin L', 'Wang Yu Y', 'Munyangaju Jose Edouard JE', 'Wichai Nuttapong N', 'Wang Hong H', 'Zhu Yan Y', 'Liu Erwei E', 'Chang Yanxu Y', 'Gao Xiumei X'], ['Su Ziyuan Z', 'Zhou Changyu C', 'Qin Shaoyou S', 'Jia Erna E', 'Wu Zhenting Z'], ['Shimozako Helio Junji HJ', 'Wu Jianhong J', 'Massad Eduardo E']]\n",
      "* Affiliation   :  [['Tianjin State Key Laboratory of Modern Chinese Medicine, 312 Anshanxi Road, Nankai District, Tianjin 300193, China.', 'Institute of Traditional Chinese Medicine, Tianjin University of Traditional Chinese Medicine, 312 Anshanxi Road, Nankai District, Tianjin 300193, China.', 'Key Laboratory of Pharmacology of Traditional Chinese Medical Formulae, Ministry of Education, Tianjin University of Traditional Chinese Medicine, Tianjin 300193, China.', 'Tianjin State Key Laboratory of Modern Chinese Medicine, 312 Anshanxi Road, Nankai District, Tianjin 300193, China.', 'Tianjin State Key Laboratory of Modern Chinese Medicine, 312 Anshanxi Road, Nankai District, Tianjin 300193, China.', 'Tianjin State Key Laboratory of Modern Chinese Medicine, 312 Anshanxi Road, Nankai District, Tianjin 300193, China.', 'Tianjin State Key Laboratory of Modern Chinese Medicine, 312 Anshanxi Road, Nankai District, Tianjin 300193, China.', 'Tianjin State Key Laboratory of Modern Chinese Medicine, 312 Anshanxi Road, Nankai District, Tianjin 300193, China.', 'Tianjin State Key Laboratory of Modern Chinese Medicine, 312 Anshanxi Road, Nankai District, Tianjin 300193, China.', 'Tianjin State Key Laboratory of Modern Chinese Medicine, 312 Anshanxi Road, Nankai District, Tianjin 300193, China.', 'Tianjin State Key Laboratory of Modern Chinese Medicine, 312 Anshanxi Road, Nankai District, Tianjin 300193, China.', 'Tianjin State Key Laboratory of Modern Chinese Medicine, 312 Anshanxi Road, Nankai District, Tianjin 300193, China.'], ['Research Center of TCM, The Affiliated Hospital of Changchun University of Traditional Chinese Medicine, Changchun, China.', 'Digest Department, China-Japan Union Hospital of Jilin University, Changchun, China.', 'Digest Department, China-Japan Union Hospital of Jilin University, Changchun, China.', 'Digest Department, China-Japan Union Hospital of Jilin University, Changchun, China.', 'Digest Department, Heilongjiang Provincial Hospital, Heilongjiang, China.'], ['Faculty of Medicine, University of São Paulo and LIM 01-HCFMUSP, Avenida Dr. Arnaldo 455, 01246-903 São Paulo, SP, Brazil.', 'Centre for Disease Modelling, York Institute for Health Research, York University, 4700 Keele Street, Toronto, ON, Canada M3J 1P3.', 'Faculty of Medicine, University of São Paulo and LIM 01-HCFMUSP, Avenida Dr. Arnaldo 455, 01246-903 São Paulo, SP, Brazil.']]\n"
     ]
    }
   ],
   "source": [
    "print('------Article Test------')\n",
    "print('* PMID(PK)      : ', PMID[:3])\n",
    "print('* PubMedPubDate : ', PubMedPubDate[:3])\n",
    "print('* ArticleTitle  : ', ArticleTitle[:3])\n",
    "print('* AbstractText  : ', AbstractText[0])\n",
    "print('')\n",
    "print('-----Journal Test------')\n",
    "print('* ISSN(PK)      : ', ISSN[:3])\n",
    "print('* Title         : ', Title[:3])\n",
    "print('* Country       : ', Country[:3])\n",
    "print('')\n",
    "print('------Author Test------')\n",
    "print('* AuthorName(PK): ', AuthorName[:3])\n",
    "print('* Affiliation   : ', Affiliation[:3])"
   ]
  },
  {
   "cell_type": "markdown",
   "metadata": {},
   "source": [
    "### CSV 파일 만들기"
   ]
  },
  {
   "cell_type": "code",
   "execution_count": 14,
   "metadata": {},
   "outputs": [],
   "source": [
    "ANameInput = sum(AuthorName, [])\n",
    "AffInput = sum(Affiliation, [])"
   ]
  },
  {
   "cell_type": "code",
   "execution_count": 14,
   "metadata": {},
   "outputs": [],
   "source": [
    "# SQL 삽입에 방해되는 특수문자들 제거\n",
    "ANameInput = [AffInput[i].replace(',', \"\") for i in range(len(AffInput))]\n",
    "AffInput = [AffInput[i].replace('\"', \"\") for i in range(len(AffInput))]\n",
    "AffInput = [AffInput[i].replace(',', \"\") for i in range(len(AffInput))]\n",
    "AffInput = [AffInput[i].replace('\\n', \"\") for i in range(len(AffInput))]\n",
    "ArticleTitle = [ArticleTitle[i].replace('\"', \"\") for i in range(len(ArticleTitle))]\n",
    "ArticleTitle = [ArticleTitle[i].replace(',', \"\") for i in range(len(ArticleTitle))]\n",
    "AbstractText = [AbstractText[i].replace('\"', \"\") for i in range(len(AbstractText))]\n",
    "AbstractText = [AbstractText[i].replace(',', \"\") for i in range(len(AbstractText))]\n",
    "AbstractText = [AbstractText[i].replace('\\n', \"\") for i in range(len(AbstractText))]"
   ]
  },
  {
   "cell_type": "code",
   "execution_count": 15,
   "metadata": {},
   "outputs": [],
   "source": [
    "ArticleListTemp = []\n",
    "ArticleListTemp.extend([PMID, PubMedPubDate, ArticleTitle, AbstractText])\n",
    "ArticleList = np.array(list(zip(*ArticleListTemp)))\n",
    "\n",
    "with open('Article.csv', 'w', encoding='utf-8', newline='') as f:\n",
    "    writer = csv.writer(f)\n",
    "    writer.writerow(['PMID', 'PubMedPubDate', 'ArticleTitle', 'AbstractText'])\n",
    "    for i in range(len(ArticleList)):\n",
    "        writer.writerow(ArticleList[i])"
   ]
  },
  {
   "cell_type": "code",
   "execution_count": 17,
   "metadata": {},
   "outputs": [],
   "source": [
    "JournalListTemp = []\n",
    "JournalListTemp.extend([ISSN, Title, Country])\n",
    "JournalList = np.array(list(set(zip(*JournalListTemp)))) # set: 중복 제거\n",
    "# JournalListUnique = JournalList[np.unique(JournalList[:, 0], return_index=True)[1]] # ISSN 기준 중복 저널 제거\n",
    "\n",
    "with open('Journal.csv', 'w', encoding='utf-8', newline='') as f:\n",
    "    writer = csv.writer(f)\n",
    "    writer.writerow(['ISSN', 'Title', 'Country'])\n",
    "    for i in range(len(JournalList)):\n",
    "        writer.writerow(JournalList[i])"
   ]
  },
  {
   "cell_type": "code",
   "execution_count": 48,
   "metadata": {},
   "outputs": [],
   "source": [
    "AuthorListTemp = []\n",
    "AuthorListTemp.extend([ANameInput, AffInput])\n",
    "AuthorList = np.array(list(set(zip(*AuthorListTemp))))\n",
    "# AuthorListUnique = AuthorList[np.unique(AuthorList[:, 0], return_index=True)[1]] # AuthorName 기준으로 중복 제거\n",
    "\n",
    "with open('Author.csv', 'w', encoding='utf-8', newline='') as f:\n",
    "    writer = csv.writer(f)\n",
    "    writer.writerow(['ID', 'AuthorName', 'Affiliation'])\n",
    "    for i in range(len(AuthorList)):\n",
    "        writer.writerow(np.append(i+1, AuthorList[i]))"
   ]
  },
  {
   "cell_type": "code",
   "execution_count": 136,
   "metadata": {},
   "outputs": [],
   "source": [
    "# Write: Author - Article\n",
    "PMIDList = []\n",
    "WriteListTemp = []\n",
    "for i in range(len(AuthorName)): \n",
    "    PMIDList.append([PMID[i]]*len(AuthorName[i]))\n",
    "PMIDList = sum(PMIDList, [])\n",
    "WriteListTemp.extend([ANameInput, PMIDList])\n",
    "WriteList = np.array(list(set(zip(*WriteListTemp))))\n",
    "WriteList = np.delete(WriteList, np.where('\\\\n' == WriteList.T[0]), 0) # AuthorName이 '\\n'인 행 삭제\n",
    "\n",
    "with open('Write.csv', 'w', encoding='utf-8', newline='') as f:\n",
    "    writer = csv.writer(f)\n",
    "    writer.writerow(['AuthorName', 'PMID'])\n",
    "    for i in range(len(WriteList)):\n",
    "        writer.writerow(WriteList[i])"
   ]
  },
  {
   "cell_type": "code",
   "execution_count": 137,
   "metadata": {},
   "outputs": [],
   "source": [
    "# Submit: Author - Journal\n",
    "ISSNList = []\n",
    "SubmitListTemp = []\n",
    "for i in range(len(AuthorName)):\n",
    "    ISSNList.append([ISSN[i]]*len(AuthorName[i]))\n",
    "ISSNList = sum(ISSNList, [])\n",
    "SubmitListTemp.extend([ANameInput, ISSNList])\n",
    "SubmitList = np.array(list(set(zip(*SubmitListTemp))))\n",
    "SubmitList = np.delete(SubmitList, np.where('\\\\n' == SubmitList.T[0]), 0) # AuthorName이 '\\n'인 행 삭제\n",
    "SubmitList = np.delete(SubmitList, np.where('\\\\n' == SubmitList.T[1]), 0) # ISSN이 '\\n'인 행 삭제\n",
    "\n",
    "with open('Submit.csv', 'w', encoding='utf-8', newline='') as f:\n",
    "    writer = csv.writer(f)\n",
    "    writer.writerow(['AuthorName', 'ISSN'])\n",
    "    for i in range(len(SubmitList)):\n",
    "        writer.writerow(SubmitList[i])"
   ]
  },
  {
   "cell_type": "code",
   "execution_count": 111,
   "metadata": {},
   "outputs": [],
   "source": [
    "# Include: Article - Journal\n",
    "IncludeList = []\n",
    "IncludeList.extend([PMID, ISSN])\n",
    "IncludeList = np.array(list(zip(*IncludeList)))\n",
    "\n",
    "with open('Include.csv', 'w', encoding='utf-8', newline='') as f:\n",
    "    writer = csv.writer(f)\n",
    "    writer.writerow(['PMID', 'ISSN'])\n",
    "    for i in range(len(IncludeList)):\n",
    "        writer.writerow(IncludeList[i])"
   ]
  },
  {
   "cell_type": "code",
   "execution_count": 46,
   "metadata": {},
   "outputs": [
    {
     "name": "stdout",
     "output_type": "stream",
     "text": [
      "8\n",
      "10\n",
      "582\n",
      "6705\n",
      "\n",
      "9\n",
      "232\n",
      "25\n",
      "\n",
      "54\n",
      "4685\n"
     ]
    }
   ],
   "source": [
    "print(len(max(PMID, key=len)))\n",
    "print(len(max(PubMedPubDate, key=len)))\n",
    "print(len(max(ArticleTitle, key=len)))\n",
    "print(len(max(AbstractText, key=len)))\n",
    "print('')\n",
    "print(len(max(ISSN, key=len)))\n",
    "print(len(max(Title, key=len)))\n",
    "print(len(max(Country, key=len)))\n",
    "print('')\n",
    "print(len(max(ANameInput, key=len)))\n",
    "print(len(max(AffInput, key=len)))"
   ]
  },
  {
   "cell_type": "code",
   "execution_count": 20,
   "metadata": {},
   "outputs": [
    {
     "name": "stdout",
     "output_type": "stream",
     "text": [
      "30000\n",
      "3943\n",
      "165464\n"
     ]
    }
   ],
   "source": [
    "print(len(ArticleList))\n",
    "print(len(JournalList))\n",
    "print(len(AuthorList))"
   ]
  },
  {
   "cell_type": "code",
   "execution_count": null,
   "metadata": {},
   "outputs": [],
   "source": []
  }
 ],
 "metadata": {
  "kernelspec": {
   "display_name": "Python 3",
   "language": "python",
   "name": "python3"
  },
  "language_info": {
   "codemirror_mode": {
    "name": "ipython",
    "version": 3
   },
   "file_extension": ".py",
   "mimetype": "text/x-python",
   "name": "python",
   "nbconvert_exporter": "python",
   "pygments_lexer": "ipython3",
   "version": "3.8.5"
  }
 },
 "nbformat": 4,
 "nbformat_minor": 4
}
