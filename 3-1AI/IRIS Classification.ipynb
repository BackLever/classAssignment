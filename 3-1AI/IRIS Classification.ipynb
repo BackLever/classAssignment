{
 "cells": [
  {
   "cell_type": "markdown",
   "metadata": {},
   "source": [
    "# 인공지능 과제 - 164202 양진형"
   ]
  },
  {
   "cell_type": "markdown",
   "metadata": {},
   "source": [
    "### Import module"
   ]
  },
  {
   "cell_type": "code",
   "execution_count": 1,
   "metadata": {},
   "outputs": [],
   "source": [
    "import matplotlib.pyplot as plt\n",
    "import numpy as np\n",
    "import pandas as pd\n",
    "import sklearn.svm as svm\n",
    "from sklearn.metrics import confusion_matrix"
   ]
  },
  {
   "cell_type": "markdown",
   "metadata": {},
   "source": [
    "### Read Data"
   ]
  },
  {
   "cell_type": "code",
   "execution_count": 2,
   "metadata": {},
   "outputs": [
    {
     "name": "stdout",
     "output_type": "stream",
     "text": [
      "['Setosa' 'Versicolor' 'Virginica']\n"
     ]
    }
   ],
   "source": [
    "data = pd.read_csv(\"iris.csv\")\n",
    "class_name = np.unique(data['variety'])\n",
    "\n",
    "trainX = data.drop(['variety'], axis=1)\n",
    "print(class_name)"
   ]
  },
  {
   "cell_type": "markdown",
   "metadata": {},
   "source": [
    "## 1. One vs Rest"
   ]
  },
  {
   "cell_type": "markdown",
   "metadata": {},
   "source": [
    "#### Prepare Train Lebel"
   ]
  },
  {
   "cell_type": "code",
   "execution_count": 3,
   "metadata": {},
   "outputs": [],
   "source": [
    "trainY_A = np.append(np.ones(50), -np.ones(100))\n",
    "trainY_B = np.append(-trainY_A[:100], -np.ones(50))\n",
    "trainY_C = np.append(-np.ones(100), np.ones(50))"
   ]
  },
  {
   "cell_type": "markdown",
   "metadata": {},
   "source": [
    "#### Make SVM Model and Fit"
   ]
  },
  {
   "cell_type": "code",
   "execution_count": 4,
   "metadata": {},
   "outputs": [],
   "source": [
    "C = 10\n",
    "\n",
    "svm_model_A = svm.SVC(kernel = 'linear', C=C).fit(trainX, trainY_A)\n",
    "svm_model_B = svm.SVC(kernel = 'linear', C=C).fit(trainX, trainY_B)\n",
    "svm_model_C = svm.SVC(kernel = 'linear', C=C).fit(trainX, trainY_C)\n",
    "\n",
    "predY_A = svm_model_A.predict(trainX)\n",
    "predY_B = svm_model_B.predict(trainX)\n",
    "predY_C = svm_model_C.predict(trainX)"
   ]
  },
  {
   "cell_type": "markdown",
   "metadata": {},
   "source": [
    "#### Result"
   ]
  },
  {
   "cell_type": "code",
   "execution_count": 5,
   "metadata": {},
   "outputs": [
    {
     "name": "stdout",
     "output_type": "stream",
     "text": [
      "[[100   0]\n",
      " [  0  50]]\n",
      "[[86 14]\n",
      " [26 24]]\n",
      "[[97  3]\n",
      " [ 0 50]]\n"
     ]
    }
   ],
   "source": [
    "# Confusion Matrix 출력\n",
    "print(confusion_matrix(trainY_A, predY_A))\n",
    "print(confusion_matrix(trainY_B, predY_B))\n",
    "print(confusion_matrix(trainY_C, predY_C))"
   ]
  },
  {
   "cell_type": "code",
   "execution_count": 6,
   "metadata": {},
   "outputs": [
    {
     "name": "stdout",
     "output_type": "stream",
     "text": [
      "  0:     Setosa,   1:     Setosa,   2:     Setosa,   3:     Setosa,   4:     Setosa, \n",
      "  5:     Setosa,   6:     Setosa,   7:     Setosa,   8:     Setosa,   9:     Setosa, \n",
      " 10:     Setosa,  11:     Setosa,  12:     Setosa,  13:     Setosa,  14:     Setosa, \n",
      " 15:     Setosa,  16:     Setosa,  17:     Setosa,  18:     Setosa,  19:     Setosa, \n",
      " 20:     Setosa,  21:     Setosa,  22:     Setosa,  23:     Setosa,  24:     Setosa, \n",
      " 25:     Setosa,  26:     Setosa,  27:     Setosa,  28:     Setosa,  29:     Setosa, \n",
      " 30:     Setosa,  31:     Setosa,  32:     Setosa,  33:     Setosa,  34:     Setosa, \n",
      " 35:     Setosa,  36:     Setosa,  37:     Setosa,  38:     Setosa,  39:     Setosa, \n",
      " 40:     Setosa,  41:     Setosa,  42:     Setosa,  43:     Setosa,  44:     Setosa, \n",
      " 45:     Setosa,  46:     Setosa,  47:     Setosa,  48:     Setosa,  49:     Setosa, \n",
      "\n",
      " 50: Versicolor,  51: Versicolor,  52: Versicolor,  53: Versicolor,  54: Versicolor, \n",
      " 55: Versicolor,  56:  Virginica,  57: Versicolor,  58: Versicolor,  59: Versicolor, \n",
      " 60: Versicolor,  61: Versicolor,  62: Versicolor,  63: Versicolor,  64: Versicolor, \n",
      " 65: Versicolor,  66: Versicolor,  67: Versicolor,  68: Versicolor,  69: Versicolor, \n",
      " 70:  Virginica,  71: Versicolor,  72: Versicolor,  73: Versicolor,  74: Versicolor, \n",
      " 75: Versicolor,  76: Versicolor,  77:  Virginica,  78: Versicolor,  79: Versicolor, \n",
      " 80: Versicolor,  81: Versicolor,  82: Versicolor,  83:  Virginica,  84: Versicolor, \n",
      " 85:  Virginica,  86: Versicolor,  87: Versicolor,  88: Versicolor,  89: Versicolor, \n",
      " 90: Versicolor,  91: Versicolor,  92: Versicolor,  93: Versicolor,  94: Versicolor, \n",
      " 95: Versicolor,  96: Versicolor,  97: Versicolor,  98: Versicolor,  99: Versicolor, \n",
      "\n",
      "100:  Virginica, 101:  Virginica, 102:  Virginica, 103:  Virginica, 104:  Virginica, \n",
      "105:  Virginica, 106:  Virginica, 107:  Virginica, 108:  Virginica, 109:  Virginica, \n",
      "110:  Virginica, 111:  Virginica, 112:  Virginica, 113:  Virginica, 114:  Virginica, \n",
      "115:  Virginica, 116:  Virginica, 117:  Virginica, 118:  Virginica, 119: Versicolor, \n",
      "120:  Virginica, 121:  Virginica, 122:  Virginica, 123:  Virginica, 124:  Virginica, \n",
      "125:  Virginica, 126:  Virginica, 127:  Virginica, 128:  Virginica, 129:  Virginica, \n",
      "130:  Virginica, 131:  Virginica, 132:  Virginica, 133: Versicolor, 134:  Virginica, \n",
      "135:  Virginica, 136:  Virginica, 137:  Virginica, 138:  Virginica, 139:  Virginica, \n",
      "140:  Virginica, 141:  Virginica, 142:  Virginica, 143:  Virginica, 144:  Virginica, \n",
      "145:  Virginica, 146:  Virginica, 147:  Virginica, 148:  Virginica, 149:  Virginica, \n",
      "\n"
     ]
    }
   ],
   "source": [
    "# 멀티클래스에 대해 분류\n",
    "output_A = svm_model_A.decision_function(trainX)\n",
    "output_B = svm_model_B.decision_function(trainX)\n",
    "output_C = svm_model_C.decision_function(trainX)\n",
    "\n",
    "output = np.reshape(np.concatenate((output_A, output_B, output_C), axis=0), (3, 150)).T\n",
    "\n",
    "for i in range(output.shape[0]):\n",
    "    print(\"%3d: %10s\" %(i ,class_name[np.argmax(output[i])]), end=\", \")\n",
    "    \n",
    "    if (i+1) % 5 == 0:\n",
    "        print(\"\")\n",
    "        if (i+1) % 50 == 0:\n",
    "            print(\"\")"
   ]
  },
  {
   "cell_type": "markdown",
   "metadata": {},
   "source": [
    "## 2. One vs One"
   ]
  },
  {
   "cell_type": "markdown",
   "metadata": {},
   "source": [
    "#### Prepare Train Lebel"
   ]
  },
  {
   "cell_type": "code",
   "execution_count": 7,
   "metadata": {},
   "outputs": [],
   "source": [
    "trainX_AB = trainX[:100]\n",
    "trainX_BC = trainX[50:]\n",
    "trainX_AC = trainX.drop(range(50, 100))\n",
    "\n",
    "trainY = np.append(np.ones(50), -np.ones(50))"
   ]
  },
  {
   "cell_type": "markdown",
   "metadata": {},
   "source": [
    "#### Make SVM Model and Fit"
   ]
  },
  {
   "cell_type": "code",
   "execution_count": 8,
   "metadata": {},
   "outputs": [],
   "source": [
    "C = 10\n",
    "\n",
    "svm_model_AB = svm.SVC(kernel = 'linear', C=C).fit(trainX_AB, trainY)\n",
    "svm_model_BC = svm.SVC(kernel = 'linear', C=C).fit(trainX_BC, trainY)\n",
    "svm_model_AC = svm.SVC(kernel = 'linear', C=C).fit(trainX_AC, trainY)\n",
    "\n",
    "predY_AB = svm_model_AB.predict(trainX_AB)\n",
    "predY_BC = svm_model_BC.predict(trainX_BC)\n",
    "predY_AC = svm_model_AC.predict(trainX_AC)"
   ]
  },
  {
   "cell_type": "markdown",
   "metadata": {},
   "source": [
    "#### Result"
   ]
  },
  {
   "cell_type": "code",
   "execution_count": 9,
   "metadata": {},
   "outputs": [
    {
     "name": "stdout",
     "output_type": "stream",
     "text": [
      "[[50  0]\n",
      " [ 0 50]]\n",
      "[[50  0]\n",
      " [ 3 47]]\n",
      "[[50  0]\n",
      " [ 0 50]]\n"
     ]
    }
   ],
   "source": [
    "# Confusion Matrix 출력\n",
    "print(confusion_matrix(trainY, predY_AB))\n",
    "print(confusion_matrix(trainY, predY_BC))\n",
    "print(confusion_matrix(trainY, predY_AC))"
   ]
  },
  {
   "cell_type": "code",
   "execution_count": 10,
   "metadata": {},
   "outputs": [],
   "source": [
    "# 멀티클래스에 대해 분류\n",
    "predAB = svm_model_AB.predict(trainX)\n",
    "predBC = svm_model_BC.predict(trainX)\n",
    "predAC = svm_model_AC.predict(trainX)\n",
    "\n",
    "predAB[predAB == 1] = 0\n",
    "predAB[predAB == -1] = 1\n",
    "predBC[predBC == 1] = 1\n",
    "predBC[predBC == -1] = 2\n",
    "predAC[predAC == 1] = 0\n",
    "predAC[predAC == -1] = 2\n",
    "# 0: Setosa, 1: Versicolor, 2: Virginica\n",
    "\n",
    "predMulti = np.reshape(np.concatenate((predAB, predBC, predAC), axis=0), (3, 150)).T"
   ]
  },
  {
   "cell_type": "code",
   "execution_count": 11,
   "metadata": {},
   "outputs": [
    {
     "name": "stdout",
     "output_type": "stream",
     "text": [
      "  0:     Setosa,   1:     Setosa,   2:     Setosa,   3:     Setosa,   4:     Setosa, \n",
      "  5:     Setosa,   6:     Setosa,   7:     Setosa,   8:     Setosa,   9:     Setosa, \n",
      " 10:     Setosa,  11:     Setosa,  12:     Setosa,  13:     Setosa,  14:     Setosa, \n",
      " 15:     Setosa,  16:     Setosa,  17:     Setosa,  18:     Setosa,  19:     Setosa, \n",
      " 20:     Setosa,  21:     Setosa,  22:     Setosa,  23:     Setosa,  24:     Setosa, \n",
      " 25:     Setosa,  26:     Setosa,  27:     Setosa,  28:     Setosa,  29:     Setosa, \n",
      " 30:     Setosa,  31:     Setosa,  32:     Setosa,  33:     Setosa,  34:     Setosa, \n",
      " 35:     Setosa,  36:     Setosa,  37:     Setosa,  38:     Setosa,  39:     Setosa, \n",
      " 40:     Setosa,  41:     Setosa,  42:     Setosa,  43:     Setosa,  44:     Setosa, \n",
      " 45:     Setosa,  46:     Setosa,  47:     Setosa,  48:     Setosa,  49:     Setosa, \n",
      "\n",
      " 50: Versicolor,  51: Versicolor,  52: Versicolor,  53: Versicolor,  54: Versicolor, \n",
      " 55: Versicolor,  56: Versicolor,  57: Versicolor,  58: Versicolor,  59: Versicolor, \n",
      " 60: Versicolor,  61: Versicolor,  62: Versicolor,  63: Versicolor,  64: Versicolor, \n",
      " 65: Versicolor,  66: Versicolor,  67: Versicolor,  68: Versicolor,  69: Versicolor, \n",
      " 70:  Virginica,  71: Versicolor,  72: Versicolor,  73: Versicolor,  74: Versicolor, \n",
      " 75: Versicolor,  76: Versicolor,  77:  Virginica,  78: Versicolor,  79: Versicolor, \n",
      " 80: Versicolor,  81: Versicolor,  82: Versicolor,  83:  Virginica,  84: Versicolor, \n",
      " 85: Versicolor,  86: Versicolor,  87: Versicolor,  88: Versicolor,  89: Versicolor, \n",
      " 90: Versicolor,  91: Versicolor,  92: Versicolor,  93: Versicolor,  94: Versicolor, \n",
      " 95: Versicolor,  96: Versicolor,  97: Versicolor,  98: Versicolor,  99: Versicolor, \n",
      "\n",
      "100:  Virginica, 101:  Virginica, 102:  Virginica, 103:  Virginica, 104:  Virginica, \n",
      "105:  Virginica, 106:  Virginica, 107:  Virginica, 108:  Virginica, 109:  Virginica, \n",
      "110:  Virginica, 111:  Virginica, 112:  Virginica, 113:  Virginica, 114:  Virginica, \n",
      "115:  Virginica, 116:  Virginica, 117:  Virginica, 118:  Virginica, 119:  Virginica, \n",
      "120:  Virginica, 121:  Virginica, 122:  Virginica, 123:  Virginica, 124:  Virginica, \n",
      "125:  Virginica, 126:  Virginica, 127:  Virginica, 128:  Virginica, 129:  Virginica, \n",
      "130:  Virginica, 131:  Virginica, 132:  Virginica, 133:  Virginica, 134:  Virginica, \n",
      "135:  Virginica, 136:  Virginica, 137:  Virginica, 138:  Virginica, 139:  Virginica, \n",
      "140:  Virginica, 141:  Virginica, 142:  Virginica, 143:  Virginica, 144:  Virginica, \n",
      "145:  Virginica, 146:  Virginica, 147:  Virginica, 148:  Virginica, 149:  Virginica, \n",
      "\n"
     ]
    }
   ],
   "source": [
    "for i in range(predMulti.shape[0]):\n",
    "    count = np.array([0, 0, 0])\n",
    "    for j in range(predMulti.shape[1]):\n",
    "        if predMulti[i][j] == 0:\n",
    "            count[0] += 1\n",
    "        elif predMulti[i][j] == 1:\n",
    "            count[1] += 1\n",
    "        else:\n",
    "            count[2] += 1\n",
    "            \n",
    "    print(\"%3d: %10s\" %(i ,class_name[np.argmax(count)]), end=\", \")\n",
    "    \n",
    "    if (i+1) % 5 == 0:\n",
    "        print(\"\")\n",
    "        if (i+1) % 50 == 0:\n",
    "            print(\"\")"
   ]
  },
  {
   "cell_type": "code",
   "execution_count": null,
   "metadata": {},
   "outputs": [],
   "source": []
  }
 ],
 "metadata": {
  "kernelspec": {
   "display_name": "Python [conda env:artist]",
   "language": "python",
   "name": "artist"
  },
  "language_info": {
   "codemirror_mode": {
    "name": "ipython",
    "version": 3
   },
   "file_extension": ".py",
   "mimetype": "text/x-python",
   "name": "python",
   "nbconvert_exporter": "python",
   "pygments_lexer": "ipython3",
   "version": "3.8.5"
  }
 },
 "nbformat": 4,
 "nbformat_minor": 4
}
